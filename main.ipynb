{
 "cells": [
  {
   "cell_type": "code",
   "execution_count": 22,
   "id": "d4709870",
   "metadata": {},
   "outputs": [],
   "source": [
    "import tensorflow as tf\n",
    "\n",
    "(X_train, Y_train),(X_test, Y_test) = tf.keras.datasets.cifar10.load_data()"
   ]
  },
  {
   "cell_type": "code",
   "execution_count": 23,
   "id": "060c03d5",
   "metadata": {},
   "outputs": [
    {
     "name": "stdout",
     "output_type": "stream",
     "text": [
      "[[[[158 112  49]\n",
      "   [159 111  47]\n",
      "   [165 116  51]\n",
      "   ...\n",
      "   [137  95  36]\n",
      "   [126  91  36]\n",
      "   [116  85  33]]\n",
      "\n",
      "  [[152 112  51]\n",
      "   [151 110  40]\n",
      "   [159 114  45]\n",
      "   ...\n",
      "   [136  95  31]\n",
      "   [125  91  32]\n",
      "   [119  88  34]]\n",
      "\n",
      "  [[151 110  47]\n",
      "   [151 109  33]\n",
      "   [158 111  36]\n",
      "   ...\n",
      "   [139  98  34]\n",
      "   [130  95  34]\n",
      "   [120  89  33]]\n",
      "\n",
      "  ...\n",
      "\n",
      "  [[ 68 124 177]\n",
      "   [ 42 100 148]\n",
      "   [ 31  88 137]\n",
      "   ...\n",
      "   [ 38  97 146]\n",
      "   [ 13  64 108]\n",
      "   [ 40  85 127]]\n",
      "\n",
      "  [[ 61 116 168]\n",
      "   [ 49 102 148]\n",
      "   [ 35  85 132]\n",
      "   ...\n",
      "   [ 26  82 130]\n",
      "   [ 29  82 126]\n",
      "   [ 20  64 107]]\n",
      "\n",
      "  [[ 54 107 160]\n",
      "   [ 56 105 149]\n",
      "   [ 45  89 132]\n",
      "   ...\n",
      "   [ 24  77 124]\n",
      "   [ 34  84 129]\n",
      "   [ 21  67 110]]]\n",
      "\n",
      "\n",
      " [[[235 235 235]\n",
      "   [231 231 231]\n",
      "   [232 232 232]\n",
      "   ...\n",
      "   [233 233 233]\n",
      "   [233 233 233]\n",
      "   [232 232 232]]\n",
      "\n",
      "  [[238 238 238]\n",
      "   [235 235 235]\n",
      "   [235 235 235]\n",
      "   ...\n",
      "   [236 236 236]\n",
      "   [236 236 236]\n",
      "   [235 235 235]]\n",
      "\n",
      "  [[237 237 237]\n",
      "   [234 234 234]\n",
      "   [234 234 234]\n",
      "   ...\n",
      "   [235 235 235]\n",
      "   [235 235 235]\n",
      "   [234 234 234]]\n",
      "\n",
      "  ...\n",
      "\n",
      "  [[ 87  99  89]\n",
      "   [ 43  51  37]\n",
      "   [ 19  23  11]\n",
      "   ...\n",
      "   [169 184 179]\n",
      "   [182 197 193]\n",
      "   [188 202 201]]\n",
      "\n",
      "  [[ 82  96  82]\n",
      "   [ 46  57  36]\n",
      "   [ 36  44  22]\n",
      "   ...\n",
      "   [174 189 183]\n",
      "   [185 200 196]\n",
      "   [187 202 200]]\n",
      "\n",
      "  [[ 85 101  83]\n",
      "   [ 62  75  48]\n",
      "   [ 58  67  38]\n",
      "   ...\n",
      "   [168 183 178]\n",
      "   [180 195 191]\n",
      "   [186 200 199]]]\n",
      "\n",
      "\n",
      " [[[158 190 222]\n",
      "   [158 187 218]\n",
      "   [139 166 194]\n",
      "   ...\n",
      "   [228 231 234]\n",
      "   [237 239 243]\n",
      "   [238 241 246]]\n",
      "\n",
      "  [[170 200 229]\n",
      "   [172 199 226]\n",
      "   [151 176 201]\n",
      "   ...\n",
      "   [232 232 236]\n",
      "   [246 246 250]\n",
      "   [246 247 251]]\n",
      "\n",
      "  [[174 201 225]\n",
      "   [176 200 222]\n",
      "   [157 179 199]\n",
      "   ...\n",
      "   [230 229 232]\n",
      "   [250 249 251]\n",
      "   [245 244 247]]\n",
      "\n",
      "  ...\n",
      "\n",
      "  [[ 31  40  45]\n",
      "   [ 30  39  44]\n",
      "   [ 26  35  40]\n",
      "   ...\n",
      "   [ 37  40  46]\n",
      "   [  9  13  14]\n",
      "   [  4   7   5]]\n",
      "\n",
      "  [[ 23  34  39]\n",
      "   [ 27  38  43]\n",
      "   [ 25  36  41]\n",
      "   ...\n",
      "   [ 19  20  24]\n",
      "   [  4   6   3]\n",
      "   [  5   7   3]]\n",
      "\n",
      "  [[ 28  41  47]\n",
      "   [ 30  43  50]\n",
      "   [ 32  45  52]\n",
      "   ...\n",
      "   [  5   6   8]\n",
      "   [  4   5   3]\n",
      "   [  7   8   7]]]\n",
      "\n",
      "\n",
      " ...\n",
      "\n",
      "\n",
      " [[[ 20  15  12]\n",
      "   [ 19  14  11]\n",
      "   [ 15  14  11]\n",
      "   ...\n",
      "   [ 10   9   7]\n",
      "   [ 12  11   9]\n",
      "   [ 13  12  10]]\n",
      "\n",
      "  [[ 21  16  13]\n",
      "   [ 20  16  13]\n",
      "   [ 18  17  12]\n",
      "   ...\n",
      "   [ 10   9   7]\n",
      "   [ 10   9   7]\n",
      "   [ 12  11   9]]\n",
      "\n",
      "  [[ 21  16  13]\n",
      "   [ 21  17  12]\n",
      "   [ 20  18  11]\n",
      "   ...\n",
      "   [ 12  11   9]\n",
      "   [ 12  11   9]\n",
      "   [ 13  12  10]]\n",
      "\n",
      "  ...\n",
      "\n",
      "  [[ 33  25  13]\n",
      "   [ 34  26  15]\n",
      "   [ 34  26  15]\n",
      "   ...\n",
      "   [ 28  25  52]\n",
      "   [ 29  25  58]\n",
      "   [ 23  20  42]]\n",
      "\n",
      "  [[ 33  25  14]\n",
      "   [ 34  26  15]\n",
      "   [ 34  26  15]\n",
      "   ...\n",
      "   [ 27  24  52]\n",
      "   [ 27  24  56]\n",
      "   [ 25  22  47]]\n",
      "\n",
      "  [[ 31  23  12]\n",
      "   [ 32  24  13]\n",
      "   [ 33  25  14]\n",
      "   ...\n",
      "   [ 24  23  50]\n",
      "   [ 26  23  53]\n",
      "   [ 25  20  47]]]\n",
      "\n",
      "\n",
      " [[[ 25  40  12]\n",
      "   [ 15  36   3]\n",
      "   [ 23  41  18]\n",
      "   ...\n",
      "   [ 61  82  78]\n",
      "   [ 92 113 112]\n",
      "   [ 75  89  92]]\n",
      "\n",
      "  [[ 12  25   6]\n",
      "   [ 20  37   7]\n",
      "   [ 24  36  15]\n",
      "   ...\n",
      "   [115 134 138]\n",
      "   [149 168 177]\n",
      "   [104 117 131]]\n",
      "\n",
      "  [[ 12  25  11]\n",
      "   [ 15  29   6]\n",
      "   [ 34  40  24]\n",
      "   ...\n",
      "   [154 172 182]\n",
      "   [157 175 192]\n",
      "   [116 129 151]]\n",
      "\n",
      "  ...\n",
      "\n",
      "  [[100 129  81]\n",
      "   [103 132  84]\n",
      "   [104 134  86]\n",
      "   ...\n",
      "   [ 97 128  84]\n",
      "   [ 98 126  84]\n",
      "   [ 91 121  79]]\n",
      "\n",
      "  [[103 132  83]\n",
      "   [104 131  83]\n",
      "   [107 135  87]\n",
      "   ...\n",
      "   [101 132  87]\n",
      "   [ 99 127  84]\n",
      "   [ 92 121  79]]\n",
      "\n",
      "  [[ 95 126  78]\n",
      "   [ 95 123  76]\n",
      "   [101 128  81]\n",
      "   ...\n",
      "   [ 93 124  80]\n",
      "   [ 95 123  81]\n",
      "   [ 92 120  80]]]\n",
      "\n",
      "\n",
      " [[[ 73  78  75]\n",
      "   [ 98 103 113]\n",
      "   [ 99 106 114]\n",
      "   ...\n",
      "   [135 150 152]\n",
      "   [135 149 154]\n",
      "   [203 215 223]]\n",
      "\n",
      "  [[ 69  73  70]\n",
      "   [ 84  89  97]\n",
      "   [ 68  75  81]\n",
      "   ...\n",
      "   [ 85  95  89]\n",
      "   [ 71  82  80]\n",
      "   [120 133 135]]\n",
      "\n",
      "  [[ 69  73  70]\n",
      "   [ 90  95 100]\n",
      "   [ 62  71  74]\n",
      "   ...\n",
      "   [ 74  81  70]\n",
      "   [ 53  62  54]\n",
      "   [ 62  74  69]]\n",
      "\n",
      "  ...\n",
      "\n",
      "  [[123 128  96]\n",
      "   [132 132 102]\n",
      "   [129 128 100]\n",
      "   ...\n",
      "   [108 107  88]\n",
      "   [ 62  60  55]\n",
      "   [ 27  27  28]]\n",
      "\n",
      "  [[115 121  91]\n",
      "   [123 124  95]\n",
      "   [129 126  99]\n",
      "   ...\n",
      "   [115 116  94]\n",
      "   [ 66  65  59]\n",
      "   [ 27  27  27]]\n",
      "\n",
      "  [[116 120  90]\n",
      "   [121 122  94]\n",
      "   [129 128 101]\n",
      "   ...\n",
      "   [116 115  94]\n",
      "   [ 68  65  58]\n",
      "   [ 27  26  26]]]]\n",
      "(10000, 1)\n"
     ]
    }
   ],
   "source": [
    "print(X_test)\n",
    "print(Y_test.shape)\n"
   ]
  },
  {
   "cell_type": "code",
   "execution_count": null,
   "id": "b32fb6cc",
   "metadata": {},
   "outputs": [],
   "source": []
  },
  {
   "cell_type": "code",
   "execution_count": 24,
   "id": "e5299a66",
   "metadata": {},
   "outputs": [],
   "source": [
    "import pandas as pd\n",
    "from scipy.spatial.distance import cdist\n",
    "import cv2\n",
    "from sklearn.metrics import silhouette_score\n",
    "from validclust import dunn\n",
    "from sklearn.metrics import davies_bouldin_score\n",
    "from sklearn.metrics import pairwise_distances\n",
    "import numpy as np\n",
    "import matplotlib.pyplot as plt"
   ]
  },
  {
   "cell_type": "code",
   "execution_count": 25,
   "id": "7540bb9f",
   "metadata": {},
   "outputs": [
    {
     "name": "stdout",
     "output_type": "stream",
     "text": [
      "(10000, 32, 32)\n"
     ]
    }
   ],
   "source": [
    "#X_test2 = X_test\n",
    "X_test = np.array([cv2.cvtColor(image,cv2.COLOR_BGR2GRAY) for image in X_test])\n",
    "print(X_test.shape)"
   ]
  },
  {
   "cell_type": "code",
   "execution_count": 26,
   "id": "0879ffc6",
   "metadata": {},
   "outputs": [
    {
     "name": "stdout",
     "output_type": "stream",
     "text": [
      "(10000, 1024)\n"
     ]
    }
   ],
   "source": [
    "X_test2 = np.reshape(X_test,(10000,1024))\n",
    "print(X_test2.shape)\n",
    "row, col = X_test2.shape"
   ]
  },
  {
   "cell_type": "code",
   "execution_count": 27,
   "id": "586a9004",
   "metadata": {},
   "outputs": [],
   "source": [
    "from sklearn.preprocessing import MinMaxScaler\n",
    "\n"
   ]
  },
  {
   "cell_type": "code",
   "execution_count": 28,
   "id": "b678da02",
   "metadata": {},
   "outputs": [],
   "source": [
    "#scaler = MinMaxScaler()\n",
    "#X_TestN = scaler.fit_transform(X_test)\n",
    "#print(X_TestN.shape)"
   ]
  },
  {
   "cell_type": "code",
   "execution_count": 29,
   "id": "b67d4ec8",
   "metadata": {},
   "outputs": [],
   "source": [
    "X_TestN = X_test2.astype('float')/255"
   ]
  },
  {
   "cell_type": "code",
   "execution_count": 30,
   "id": "3c573225",
   "metadata": {},
   "outputs": [
    {
     "name": "stdout",
     "output_type": "stream",
     "text": [
      "[5937  839 1107 6420 9091 4970 2990 6198 4873 6340]\n"
     ]
    }
   ],
   "source": [
    "import random\n",
    "cent = np.zeros(10)\n",
    "for i in range(10):\n",
    "    cent[i] = random.randint(1,row)\n",
    "    \n",
    "\n",
    "cent = cent.astype(int)\n",
    "print(cent)\n",
    "\n",
    "centroid = []\n",
    "\n",
    "for i in range(10):\n",
    "    centroid.append(X_TestN[cent[i]])\n",
    "\n",
    "\n",
    "no_clusters = 10\n"
   ]
  },
  {
   "cell_type": "code",
   "execution_count": 31,
   "id": "97ce0ad8",
   "metadata": {},
   "outputs": [],
   "source": [
    "count = 0\n",
    "labels = np.zeros(10000)"
   ]
  },
  {
   "cell_type": "code",
   "execution_count": 32,
   "id": "0acc2fca",
   "metadata": {},
   "outputs": [
    {
     "name": "stdout",
     "output_type": "stream",
     "text": [
      "[array([0.81432033, 0.80917603, 0.81219982, ..., 0.75638907, 0.75784865,\n",
      "       0.76210068]), array([0.61284115, 0.61066404, 0.61475867, ..., 0.53175848, 0.53220497,\n",
      "       0.53659381]), array([0.30320276, 0.29500659, 0.29576794, ..., 0.60483603, 0.59512994,\n",
      "       0.58956233]), array([0.23385417, 0.22965686, 0.23013685, ..., 0.30330882, 0.29748264,\n",
      "       0.29788603]), array([0.73921192, 0.7425641 , 0.75206259, ..., 0.37822775, 0.37841252,\n",
      "       0.38277149]), array([0.50439636, 0.50093871, 0.50881084, ..., 0.54257185, 0.53775144,\n",
      "       0.53611685]), array([0.23266063, 0.23327432, 0.23607304, ..., 0.29389847, 0.29086035,\n",
      "       0.28703994]), array([0.79974969, 0.7959379 , 0.80038206, ..., 0.46014536, 0.46616604,\n",
      "       0.47494456]), array([0.42564465, 0.42611392, 0.43025008, ..., 0.38918326, 0.39030809,\n",
      "       0.39146121]), array([0.85307315, 0.84905103, 0.85349422, ..., 0.81202237, 0.81315988,\n",
      "       0.81474987])]\n",
      "29\n",
      "[8. 7. 4. ... 6. 3. 1.]\n"
     ]
    }
   ],
   "source": [
    "while count<100:\n",
    "    cluster = []\n",
    "    for j in range(10):\n",
    "        cluster.append([])\n",
    "\n",
    "\n",
    "    temp = np.zeros(10).reshape(-1,1)\n",
    "\n",
    "    for k in range(row):\n",
    "        for i in range(10):\n",
    "            temp[i]  = np.linalg.norm(X_TestN[k] - centroid[i], axis = 0)\n",
    "\n",
    "\n",
    "        index = np.argmin(temp, axis=0)\n",
    "        cluster[int(index)].append(X_TestN[k])\n",
    "        labels[k] = int(index)\n",
    "\n",
    "    #print(len(cluster))\n",
    "\n",
    "\n",
    "    centroid_new = []\n",
    "    for i in range(10):\n",
    "        centroid_new.append(np.mean(cluster[i], axis=0))\n",
    "\n",
    "    #print(centroid_new)\n",
    "    for i in range(10):\n",
    "        flag = np.array_equal(centroid[i], centroid_new[i], equal_nan=False)\n",
    "        if flag == True:\n",
    "            break\n",
    "    \n",
    "    if flag == True:\n",
    "        break\n",
    "    else:\n",
    "        centroid = centroid_new.copy()\n",
    "        count=count+1\n",
    "        \n",
    "print(centroid_new)\n",
    "print(count)\n",
    "print(labels)"
   ]
  },
  {
   "cell_type": "code",
   "execution_count": 33,
   "id": "43006f6d",
   "metadata": {},
   "outputs": [],
   "source": [
    "final = silhouette_score(X_TestN, labels)"
   ]
  },
  {
   "cell_type": "code",
   "execution_count": 35,
   "id": "2ad67750",
   "metadata": {},
   "outputs": [
    {
     "name": "stdout",
     "output_type": "stream",
     "text": [
      "0.0608802288657418\n"
     ]
    }
   ],
   "source": [
    "print(final)"
   ]
  },
  {
   "cell_type": "code",
   "execution_count": 36,
   "id": "295dc0e8",
   "metadata": {},
   "outputs": [
    {
     "name": "stdout",
     "output_type": "stream",
     "text": [
      "Dunn's Index: 2.737724171154885\n"
     ]
    }
   ],
   "source": [
    "print(\"Dunn's Index:\", davies_bouldin_score(X_TestN, labels))\n",
    "    \n"
   ]
  },
  {
   "cell_type": "code",
   "execution_count": 37,
   "id": "ebade948",
   "metadata": {},
   "outputs": [
    {
     "name": "stdout",
     "output_type": "stream",
     "text": [
      "(50000, 32, 32)\n",
      "(50000, 1024)\n"
     ]
    }
   ],
   "source": [
    "X_train = np.array([cv2.cvtColor(image,cv2.COLOR_BGR2GRAY) for image in X_train])\n",
    "print(X_train.shape)\n",
    "X_train = np.reshape(X_train,(50000,1024))\n",
    "print(X_train.shape)\n",
    "row, col = X_train.shape\n",
    "X_TrainN = X_train.astype('float')/255"
   ]
  },
  {
   "cell_type": "code",
   "execution_count": 38,
   "id": "dd21a3c1",
   "metadata": {},
   "outputs": [],
   "source": [
    "from sklearn.cluster import KMeans\n",
    "from keras import Model\n",
    "from keras import activations\n",
    "from keras.layers import Input, Dense, Conv2D, Reshape\n",
    "from tensorflow.keras.models import Sequential\n",
    "from tensorflow.keras.utils import to_categorical\n",
    "from tensorflow.keras.optimizers import SGD, Adam\n",
    "from keras.losses import binary_crossentropy"
   ]
  },
  {
   "cell_type": "code",
   "execution_count": 39,
   "id": "ab32b532",
   "metadata": {},
   "outputs": [
    {
     "name": "stdout",
     "output_type": "stream",
     "text": [
      "Model: \"model_3\"\n",
      "_________________________________________________________________\n",
      "Layer (type)                 Output Shape              Param #   \n",
      "=================================================================\n",
      "input (InputLayer)           [(None, 1024)]            0         \n",
      "_________________________________________________________________\n",
      "Layer1 (Dense)               (None, 1024)              1049600   \n",
      "_________________________________________________________________\n",
      "Layer2 (Dense)               (None, 512)               524800    \n",
      "_________________________________________________________________\n",
      "Layer3 (Dense)               (None, 256)               131328    \n",
      "_________________________________________________________________\n",
      "Bottleneck (Dense)           (None, 32)                8224      \n",
      "_________________________________________________________________\n",
      "Layer5 (Dense)               (None, 256)               8448      \n",
      "_________________________________________________________________\n",
      "Layer6 (Dense)               (None, 512)               131584    \n",
      "_________________________________________________________________\n",
      "Layer7 (Dense)               (None, 1024)              525312    \n",
      "_________________________________________________________________\n",
      "reshape_1 (Reshape)          (None, 32, 32, 1)         0         \n",
      "=================================================================\n",
      "Total params: 2,379,296\n",
      "Trainable params: 2,379,296\n",
      "Non-trainable params: 0\n",
      "_________________________________________________________________\n"
     ]
    }
   ],
   "source": [
    "x = Input(shape=(1024,), name='input')\n",
    "def create_encoder(x):\n",
    "    x = Dense(1024, activation=activations.relu, name=\"Layer1\")(x)\n",
    "    x = Dense(512, activation=activations.relu, name=\"Layer2\")(x)\n",
    "    x = Dense(256, activation=activations.relu, name=\"Layer3\")(x)\n",
    "    x = Dense(32, activation=activations.relu, name=\"Bottleneck\")(x)\n",
    "    return x\n",
    "\n",
    "\n",
    "def create_decoder(x):\n",
    "    x = Dense(256, activation=activations.relu, name=\"Layer5\")(x)\n",
    "    x = Dense(512, activation=activations.relu, name=\"Layer6\")(x)\n",
    "    x = Dense(1024, activation=activations.relu, name=\"Layer7\")(x)\n",
    "    x = Reshape((32,32,1))(x)\n",
    "    return x\n",
    "    \n",
    "\n",
    "encoder = create_encoder(x)\n",
    "decoder = create_decoder(encoder)\n",
    "\n",
    "autoencoder = Model(x, decoder)\n",
    "autoencoder.compile(loss='binary_crossentropy', optimizer=Adam(), metrics=['accuracy'])\n",
    "autoencoder.summary()"
   ]
  },
  {
   "cell_type": "code",
   "execution_count": 40,
   "id": "c3dbcfd1",
   "metadata": {},
   "outputs": [
    {
     "name": "stdout",
     "output_type": "stream",
     "text": [
      "Epoch 1/20\n",
      "196/196 [==============================] - 12s 51ms/step - loss: 1.4235 - accuracy: 0.0076\n",
      "Epoch 2/20\n",
      "196/196 [==============================] - 6s 29ms/step - loss: 0.9850 - accuracy: 0.0086\n",
      "Epoch 3/20\n",
      "196/196 [==============================] - 5s 27ms/step - loss: 0.7968 - accuracy: 0.0089\n",
      "Epoch 4/20\n",
      "196/196 [==============================] - 5s 27ms/step - loss: 0.7335 - accuracy: 0.0091\n",
      "Epoch 5/20\n",
      "196/196 [==============================] - 5s 27ms/step - loss: 0.7186 - accuracy: 0.0091\n",
      "Epoch 6/20\n",
      "196/196 [==============================] - 11s 57ms/step - loss: 0.7009 - accuracy: 0.0092\n",
      "Epoch 7/20\n",
      "196/196 [==============================] - 15s 77ms/step - loss: 0.6841 - accuracy: 0.0092\n",
      "Epoch 8/20\n",
      "196/196 [==============================] - 15s 76ms/step - loss: 0.6747 - accuracy: 0.0092\n",
      "Epoch 9/20\n",
      "196/196 [==============================] - 15s 77ms/step - loss: 0.6754 - accuracy: 0.0092\n",
      "Epoch 10/20\n",
      "196/196 [==============================] - 15s 76ms/step - loss: 0.6774 - accuracy: 0.0092\n",
      "Epoch 11/20\n",
      "196/196 [==============================] - 15s 77ms/step - loss: 0.6704 - accuracy: 0.0092\n",
      "Epoch 12/20\n",
      "196/196 [==============================] - 15s 76ms/step - loss: 0.6690 - accuracy: 0.0091\n",
      "Epoch 13/20\n",
      "196/196 [==============================] - 15s 75ms/step - loss: 0.6628 - accuracy: 0.0090\n",
      "Epoch 14/20\n",
      "196/196 [==============================] - 15s 75ms/step - loss: 0.6538 - accuracy: 0.0091\n",
      "Epoch 15/20\n",
      "196/196 [==============================] - 15s 75ms/step - loss: 0.6471 - accuracy: 0.0092\n",
      "Epoch 16/20\n",
      "196/196 [==============================] - 15s 74ms/step - loss: 0.6499 - accuracy: 0.0091\n",
      "Epoch 17/20\n",
      "196/196 [==============================] - 15s 77ms/step - loss: 0.6447 - accuracy: 0.0092\n",
      "Epoch 18/20\n",
      "196/196 [==============================] - 15s 75ms/step - loss: 0.6451 - accuracy: 0.0092\n",
      "Epoch 19/20\n",
      "196/196 [==============================] - 15s 74ms/step - loss: 0.6468 - accuracy: 0.0092\n",
      "Epoch 20/20\n",
      "196/196 [==============================] - 15s 75ms/step - loss: 0.6376 - accuracy: 0.0092\n"
     ]
    }
   ],
   "source": [
    "Y_Decoded = X_TrainN.reshape(50000,32,32,1)\n",
    "output = autoencoder.fit(X_TrainN, Y_Decoded, epochs=20, batch_size=256)"
   ]
  },
  {
   "cell_type": "code",
   "execution_count": 41,
   "id": "bc8f4371",
   "metadata": {},
   "outputs": [
    {
     "name": "stdout",
     "output_type": "stream",
     "text": [
      "(10000, 32, 32)\n"
     ]
    }
   ],
   "source": [
    "print(X_test.shape)"
   ]
  },
  {
   "cell_type": "code",
   "execution_count": 191,
   "id": "d186f85e",
   "metadata": {},
   "outputs": [
    {
     "data": {
      "image/png": "[encoded data removed]",
      "text/plain": [
       "<Figure size 720x720 with 2 Axes>"
      ]
     },
     "metadata": {
      "needs_background": "light"
     },
     "output_type": "display_data"
    },
    {
     "data": {
      "image/png": "[encoded data removed]",
      "text/plain": [
       "<Figure size 720x720 with 2 Axes>"
      ]
     },
     "metadata": {
      "needs_background": "light"
     },
     "output_type": "display_data"
    },
    {
     "data": {
      "image/png": "[encoded data removed]",
      "text/plain": [
       "<Figure size 720x720 with 2 Axes>"
      ]
     },
     "metadata": {
      "needs_background": "light"
     },
     "output_type": "display_data"
    },
    {
     "data": {
      "image/png": "[encoded data removed]",
      "text/plain": [
       "<Figure size 720x720 with 2 Axes>"
      ]
     },
     "metadata": {
      "needs_background": "light"
     },
     "output_type": "display_data"
    },
    {
     "data": {
      "image/png": "[encoded data removed]",
      "text/plain": [
       "<Figure size 720x720 with 2 Axes>"
      ]
     },
     "metadata": {
      "needs_background": "light"
     },
     "output_type": "display_data"
    },
    {
     "data": {
      "image/png": "[encoded data removed]",
      "text/plain": [
       "<Figure size 720x720 with 2 Axes>"
      ]
     },
     "metadata": {
      "needs_background": "light"
     },
     "output_type": "display_data"
    },
    {
     "data": {
      "image/png": "[encoded data removed]",
      "text/plain": [
       "<Figure size 720x720 with 2 Axes>"
      ]
     },
     "metadata": {
      "needs_background": "light"
     },
     "output_type": "display_data"
    },
    {
     "data": {
      "image/png": "[encoded data removed]",
      "text/plain": [
       "<Figure size 720x720 with 2 Axes>"
      ]
     },
     "metadata": {
      "needs_background": "light"
     },
     "output_type": "display_data"
    },
    {
     "data": {
      "image/png": "[encoded data removed]",
      "text/plain": [
       "<Figure size 720x720 with 2 Axes>"
      ]
     },
     "metadata": {
      "needs_background": "light"
     },
     "output_type": "display_data"
    },
    {
     "data": {
      "image/png": "[encoded data removed]",
      "text/plain": [
       "<Figure size 720x720 with 2 Axes>"
      ]
     },
     "metadata": {
      "needs_background": "light"
     },
     "output_type": "display_data"
    }
   ],
   "source": [
    "import matplotlib.pyplot as plt\n",
    "from matplotlib.pyplot import imshow\n",
    "i = 10\n",
    "auto_output = autoencoder.predict(X_test2[:i])\n",
    "auto_output = (auto_output * 255).astype('int32')\n",
    "auto_output = auto_output.reshape(auto_output.shape[0], 32, 32)\n",
    "\n",
    "for a in range(i):\n",
    "    fig=plt.figure(figsize=(10,10))\n",
    "    fig.add_subplot(4,4,1)\n",
    "    imshow(X_test[a], cmap=plt.get_cmap('gray'))\n",
    "    fig.add_subplot(4,4,2)\n",
    "    imshow(auto_output[a], cmap=plt.get_cmap('gray'))"
   ]
  },
  {
   "cell_type": "code",
   "execution_count": null,
   "id": "d06c1dbd",
   "metadata": {},
   "outputs": [],
   "source": []
  },
  {
   "cell_type": "code",
   "execution_count": 42,
   "id": "abae90ab",
   "metadata": {},
   "outputs": [],
   "source": [
    "from sklearn.cluster import KMeans\n",
    "from sklearn.metrics import silhouette_score\n",
    "\n",
    "encoding_model = Model(x, encoder)\n",
    "encoding_pred = encoding_model.predict(X_TrainN)\n"
   ]
  },
  {
   "cell_type": "code",
   "execution_count": 43,
   "id": "8e652ae5",
   "metadata": {},
   "outputs": [],
   "source": [
    "KMeans_for_encoding = KMeans(n_clusters=10)\n",
    "KMeans_labels_pred = KMeans_for_encoding.fit_predict(encoding_pred)"
   ]
  },
  {
   "cell_type": "code",
   "execution_count": 44,
   "id": "2fe1f958",
   "metadata": {},
   "outputs": [
    {
     "name": "stdout",
     "output_type": "stream",
     "text": [
      "0.16624467\n"
     ]
    }
   ],
   "source": [
    "score = silhouette_score(encoding_pred, KMeans_labels_pred)\n",
    "print(score)"
   ]
  },
  {
   "cell_type": "code",
   "execution_count": null,
   "id": "356f7ca1",
   "metadata": {},
   "outputs": [],
   "source": []
  }
 ],
 "metadata": {
  "kernelspec": {
   "display_name": "Python 3 (ipykernel)",
   "language": "python",
   "name": "python3"
  },
  "language_info": {
   "codemirror_mode": {
    "name": "ipython",
    "version": 3
   },
   "file_extension": ".py",
   "mimetype": "text/x-python",
   "name": "python",
   "nbconvert_exporter": "python",
   "pygments_lexer": "ipython3",
   "version": "3.9.7"
  }
 },
 "nbformat": 4,
 "nbformat_minor": 5
}
